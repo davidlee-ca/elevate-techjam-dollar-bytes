{
 "cells": [
  {
   "cell_type": "code",
   "execution_count": 3,
   "metadata": {},
   "outputs": [],
   "source": [
    "import json\n",
    "import os\n",
    "\n",
    "file_prefix = 'customers/'\n",
    "customerid = []\n",
    "\n",
    "for filename in os.listdir(file_prefix):\n",
    "    with open(file_prefix + filename, 'r') as f:\n",
    "        x = json.load(f)\n",
    "    customers = x['result']['customers']\n",
    "    customerid.extend([c['id'] for c in customers])\n",
    "    \n",
    "segments = 8\n",
    "\n",
    "segment_length = (len(customerid) // segments) + 1\n",
    "start_idx = 0\n",
    "for i in range(1, segments + 1):\n",
    "    with open(f\"customerid_{i}.txt\", \"w\") as f:\n",
    "        f.write(\"\\n\".join(customerid[start_idx:start_idx+segment_length]))\n",
    "    start_idx += segment_length\n",
    "\n"
   ]
  },
  {
   "cell_type": "code",
   "execution_count": null,
   "metadata": {},
   "outputs": [],
   "source": []
  }
 ],
 "metadata": {
  "kernelspec": {
   "display_name": "Python 3",
   "language": "python",
   "name": "python3"
  },
  "language_info": {
   "codemirror_mode": {
    "name": "ipython",
    "version": 3
   },
   "file_extension": ".py",
   "mimetype": "text/x-python",
   "name": "python",
   "nbconvert_exporter": "python",
   "pygments_lexer": "ipython3",
   "version": "3.7.3"
  }
 },
 "nbformat": 4,
 "nbformat_minor": 2
}
