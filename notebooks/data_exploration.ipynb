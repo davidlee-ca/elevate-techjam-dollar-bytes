{
 "cells": [
  {
   "cell_type": "code",
   "execution_count": 3,
   "metadata": {},
   "outputs": [],
   "source": [
    "import matplotlib.pyplot as plt\n",
    "import pandas as pd\n",
    "import numpy as np\n",
    "%matplotlib inline\n",
    "df = pd.read_csv('all_customers.csv')"
   ]
  },
  {
   "cell_type": "code",
   "execution_count": 5,
   "metadata": {},
   "outputs": [
    {
     "name": "stdout",
     "output_type": "stream",
     "text": [
      "Index(['Unnamed: 0', 'id', 'type', 'givenName', 'surname', 'age', 'gender',\n",
      "       'birthDate', 'workActivity', 'occupationIndustry', 'totalIncome',\n",
      "       'relationshipStatus', 'habitationStatus', 'schoolAttendance', 'schools',\n",
      "       'otherName', 'maidenName', 'principalResidence.municipality',\n",
      "       'principalResidence.postalCode', 'principalResidence.streetName',\n",
      "       'principalResidence.latitude', 'principalResidence.longitude',\n",
      "       'principalResidence.addressType', 'principalResidence.streetNumber'],\n",
      "      dtype='object')\n"
     ]
    },
    {
     "data": {
      "text/plain": [
       "0     18566.75\n",
       "1     28742.00\n",
       "2     30983.30\n",
       "3     35061.00\n",
       "4          NaN\n",
       "5     41919.00\n",
       "6          NaN\n",
       "7      7890.96\n",
       "8     86305.20\n",
       "9     31019.00\n",
       "10    29622.85\n",
       "11    41359.75\n",
       "12         NaN\n",
       "13    53468.00\n",
       "14     4237.53\n",
       "15    48942.85\n",
       "16    36595.90\n",
       "17    39961.00\n",
       "18    48257.00\n",
       "19    13575.21\n",
       "Name: totalIncome, dtype: float64"
      ]
     },
     "execution_count": 5,
     "metadata": {},
     "output_type": "execute_result"
    }
   ],
   "source": [
    "print(df.columns)\n",
    "df['totalIncome'].head(20)"
   ]
  },
  {
   "cell_type": "code",
   "execution_count": 14,
   "metadata": {},
   "outputs": [
    {
     "data": {
      "text/html": [
       "<div>\n",
       "<style scoped>\n",
       "    .dataframe tbody tr th:only-of-type {\n",
       "        vertical-align: middle;\n",
       "    }\n",
       "\n",
       "    .dataframe tbody tr th {\n",
       "        vertical-align: top;\n",
       "    }\n",
       "\n",
       "    .dataframe thead th {\n",
       "        text-align: right;\n",
       "    }\n",
       "</style>\n",
       "<table border=\"1\" class=\"dataframe\">\n",
       "  <thead>\n",
       "    <tr style=\"text-align: right;\">\n",
       "      <th></th>\n",
       "      <th>Unnamed: 0</th>\n",
       "      <th>id</th>\n",
       "      <th>type</th>\n",
       "      <th>givenName</th>\n",
       "      <th>surname</th>\n",
       "      <th>age</th>\n",
       "      <th>gender</th>\n",
       "      <th>birthDate</th>\n",
       "      <th>workActivity</th>\n",
       "      <th>occupationIndustry</th>\n",
       "      <th>...</th>\n",
       "      <th>schools</th>\n",
       "      <th>otherName</th>\n",
       "      <th>maidenName</th>\n",
       "      <th>principalResidence.municipality</th>\n",
       "      <th>principalResidence.postalCode</th>\n",
       "      <th>principalResidence.streetName</th>\n",
       "      <th>principalResidence.latitude</th>\n",
       "      <th>principalResidence.longitude</th>\n",
       "      <th>principalResidence.addressType</th>\n",
       "      <th>principalResidence.streetNumber</th>\n",
       "    </tr>\n",
       "  </thead>\n",
       "  <tbody>\n",
       "    <tr>\n",
       "      <td>0</td>\n",
       "      <td>0</td>\n",
       "      <td>4806f34e-93a6-4e2f-9e41-5ee9f0d24f14</td>\n",
       "      <td>Personal</td>\n",
       "      <td>Khalil</td>\n",
       "      <td>Tilden</td>\n",
       "      <td>53</td>\n",
       "      <td>Male</td>\n",
       "      <td>1965-11-21</td>\n",
       "      <td>parttime</td>\n",
       "      <td>5412 Accounting, tax preparation, bookkeeping ...</td>\n",
       "      <td>...</td>\n",
       "      <td>NaN</td>\n",
       "      <td>NaN</td>\n",
       "      <td>NaN</td>\n",
       "      <td>Toronto</td>\n",
       "      <td>M4Y 3C3</td>\n",
       "      <td>Hayden St</td>\n",
       "      <td>43.669558</td>\n",
       "      <td>-79.384657</td>\n",
       "      <td>100002</td>\n",
       "      <td>1609-35</td>\n",
       "    </tr>\n",
       "    <tr>\n",
       "      <td>1</td>\n",
       "      <td>1</td>\n",
       "      <td>90f54a9f-9112-451b-b2f9-e5de6b16e0b0</td>\n",
       "      <td>Personal</td>\n",
       "      <td>Tanner</td>\n",
       "      <td>Tewari</td>\n",
       "      <td>39</td>\n",
       "      <td>Male</td>\n",
       "      <td>1980-05-08</td>\n",
       "      <td>fulltime</td>\n",
       "      <td>4145 Pharmaceuticals, toiletries, cosmetics an...</td>\n",
       "      <td>...</td>\n",
       "      <td>NaN</td>\n",
       "      <td>NaN</td>\n",
       "      <td>NaN</td>\n",
       "      <td>Scarborough</td>\n",
       "      <td>M1R 4M2</td>\n",
       "      <td>Alrita Cres</td>\n",
       "      <td>43.766215</td>\n",
       "      <td>-79.313923</td>\n",
       "      <td>100001</td>\n",
       "      <td>29</td>\n",
       "    </tr>\n",
       "    <tr>\n",
       "      <td>2</td>\n",
       "      <td>2</td>\n",
       "      <td>21821034-8ad8-4c00-bfd4-b74e694066ba</td>\n",
       "      <td>Personal</td>\n",
       "      <td>Zachary</td>\n",
       "      <td>Scoby</td>\n",
       "      <td>57</td>\n",
       "      <td>Male</td>\n",
       "      <td>1962-05-09</td>\n",
       "      <td>parttime</td>\n",
       "      <td>4481 Clothing stores</td>\n",
       "      <td>...</td>\n",
       "      <td>NaN</td>\n",
       "      <td>NaN</td>\n",
       "      <td>NaN</td>\n",
       "      <td>North York</td>\n",
       "      <td>M3N 1M3</td>\n",
       "      <td>Yellowstone St</td>\n",
       "      <td>43.757694</td>\n",
       "      <td>-79.509814</td>\n",
       "      <td>100001</td>\n",
       "      <td>130-20</td>\n",
       "    </tr>\n",
       "    <tr>\n",
       "      <td>3</td>\n",
       "      <td>3</td>\n",
       "      <td>cad31095-cae1-49f4-bea8-78c42e2d92b7</td>\n",
       "      <td>Personal</td>\n",
       "      <td>Milan</td>\n",
       "      <td>Lowthert</td>\n",
       "      <td>36</td>\n",
       "      <td>Male</td>\n",
       "      <td>1983-01-29</td>\n",
       "      <td>fulltime</td>\n",
       "      <td>6111 Elementary and secondary schools</td>\n",
       "      <td>...</td>\n",
       "      <td>NaN</td>\n",
       "      <td>NaN</td>\n",
       "      <td>NaN</td>\n",
       "      <td>Toronto</td>\n",
       "      <td>M6K 2S4</td>\n",
       "      <td>St Clarens Ave</td>\n",
       "      <td>43.647906</td>\n",
       "      <td>-79.437285</td>\n",
       "      <td>115001</td>\n",
       "      <td>39</td>\n",
       "    </tr>\n",
       "    <tr>\n",
       "      <td>4</td>\n",
       "      <td>4</td>\n",
       "      <td>ce16ef42-a4e8-41e0-8f45-1ccf3079b659</td>\n",
       "      <td>Personal</td>\n",
       "      <td>Jackson</td>\n",
       "      <td>Flink</td>\n",
       "      <td>17</td>\n",
       "      <td>Male</td>\n",
       "      <td>2002-06-09</td>\n",
       "      <td>NaN</td>\n",
       "      <td>NaN</td>\n",
       "      <td>...</td>\n",
       "      <td>{'secondary': {'lowGrade': '09', 'highGrade': ...</td>\n",
       "      <td>NaN</td>\n",
       "      <td>NaN</td>\n",
       "      <td>East York</td>\n",
       "      <td>M4C 3P7</td>\n",
       "      <td>Roblin Ave</td>\n",
       "      <td>43.696199</td>\n",
       "      <td>-79.323158</td>\n",
       "      <td>100001</td>\n",
       "      <td>17</td>\n",
       "    </tr>\n",
       "  </tbody>\n",
       "</table>\n",
       "<p>5 rows × 24 columns</p>\n",
       "</div>"
      ],
      "text/plain": [
       "   Unnamed: 0                                    id      type givenName  \\\n",
       "0           0  4806f34e-93a6-4e2f-9e41-5ee9f0d24f14  Personal    Khalil   \n",
       "1           1  90f54a9f-9112-451b-b2f9-e5de6b16e0b0  Personal    Tanner   \n",
       "2           2  21821034-8ad8-4c00-bfd4-b74e694066ba  Personal   Zachary   \n",
       "3           3  cad31095-cae1-49f4-bea8-78c42e2d92b7  Personal     Milan   \n",
       "4           4  ce16ef42-a4e8-41e0-8f45-1ccf3079b659  Personal   Jackson   \n",
       "\n",
       "    surname  age gender   birthDate workActivity  \\\n",
       "0    Tilden   53   Male  1965-11-21     parttime   \n",
       "1    Tewari   39   Male  1980-05-08     fulltime   \n",
       "2     Scoby   57   Male  1962-05-09     parttime   \n",
       "3  Lowthert   36   Male  1983-01-29     fulltime   \n",
       "4     Flink   17   Male  2002-06-09          NaN   \n",
       "\n",
       "                                  occupationIndustry  ...  \\\n",
       "0  5412 Accounting, tax preparation, bookkeeping ...  ...   \n",
       "1  4145 Pharmaceuticals, toiletries, cosmetics an...  ...   \n",
       "2                               4481 Clothing stores  ...   \n",
       "3              6111 Elementary and secondary schools  ...   \n",
       "4                                                NaN  ...   \n",
       "\n",
       "                                             schools otherName maidenName  \\\n",
       "0                                                NaN       NaN        NaN   \n",
       "1                                                NaN       NaN        NaN   \n",
       "2                                                NaN       NaN        NaN   \n",
       "3                                                NaN       NaN        NaN   \n",
       "4  {'secondary': {'lowGrade': '09', 'highGrade': ...       NaN        NaN   \n",
       "\n",
       "  principalResidence.municipality principalResidence.postalCode  \\\n",
       "0                         Toronto                       M4Y 3C3   \n",
       "1                     Scarborough                       M1R 4M2   \n",
       "2                      North York                       M3N 1M3   \n",
       "3                         Toronto                       M6K 2S4   \n",
       "4                       East York                       M4C 3P7   \n",
       "\n",
       "  principalResidence.streetName principalResidence.latitude  \\\n",
       "0                     Hayden St                   43.669558   \n",
       "1                   Alrita Cres                   43.766215   \n",
       "2                Yellowstone St                   43.757694   \n",
       "3                St Clarens Ave                   43.647906   \n",
       "4                    Roblin Ave                   43.696199   \n",
       "\n",
       "  principalResidence.longitude principalResidence.addressType  \\\n",
       "0                   -79.384657                         100002   \n",
       "1                   -79.313923                         100001   \n",
       "2                   -79.509814                         100001   \n",
       "3                   -79.437285                         115001   \n",
       "4                   -79.323158                         100001   \n",
       "\n",
       "  principalResidence.streetNumber  \n",
       "0                         1609-35  \n",
       "1                              29  \n",
       "2                          130-20  \n",
       "3                              39  \n",
       "4                              17  \n",
       "\n",
       "[5 rows x 24 columns]"
      ]
     },
     "execution_count": 14,
     "metadata": {},
     "output_type": "execute_result"
    }
   ],
   "source": [
    "df.head(5)"
   ]
  },
  {
   "cell_type": "code",
   "execution_count": 7,
   "metadata": {},
   "outputs": [
    {
     "data": {
      "image/png": "[encoded data removed]",
      "text/plain": [
       "<Figure size 432x288 with 1 Axes>"
      ]
     },
     "metadata": {
      "needs_background": "light"
     },
     "output_type": "display_data"
    }
   ],
   "source": [
    "plt.hist(df['totalIncome'], bins=20)\n",
    "plt.ylabel('Total Income');"
   ]
  },
  {
   "cell_type": "code",
   "execution_count": 13,
   "metadata": {},
   "outputs": [
    {
     "name": "stderr",
     "output_type": "stream",
     "text": [
      "C:\\Users\\wdlee\\Miniconda3\\lib\\site-packages\\ipykernel_launcher.py:2: UserWarning: Boolean Series key will be reindexed to match DataFrame index.\n",
      "  \n"
     ]
    },
    {
     "data": {
      "text/plain": [
       "(array([2.382e+03, 1.744e+03, 1.251e+03, 8.750e+02, 6.360e+02, 5.140e+02,\n",
       "        3.150e+02, 2.690e+02, 1.990e+02, 1.750e+02, 1.440e+02, 8.700e+01,\n",
       "        6.600e+01, 5.100e+01, 4.500e+01, 2.800e+01, 2.800e+01, 2.100e+01,\n",
       "        1.500e+01, 1.500e+01, 3.000e+00, 9.000e+00, 5.000e+00, 4.000e+00,\n",
       "        6.000e+00, 3.000e+00, 2.000e+00, 1.000e+00, 1.000e+00, 1.000e+00]),\n",
       " array([100007.45      , 109881.33833333, 119755.22666667, 129629.115     ,\n",
       "        139503.00333333, 149376.89166667, 159250.78      , 169124.66833333,\n",
       "        178998.55666667, 188872.445     , 198746.33333333, 208620.22166667,\n",
       "        218494.11      , 228367.99833333, 238241.88666667, 248115.775     ,\n",
       "        257989.66333333, 267863.55166667, 277737.44      , 287611.32833333,\n",
       "        297485.21666667, 307359.105     , 317232.99333333, 327106.88166667,\n",
       "        336980.77      , 346854.65833333, 356728.54666667, 366602.435     ,\n",
       "        376476.32333333, 386350.21166667, 396224.1       ]),\n",
       " <a list of 30 Patch objects>)"
      ]
     },
     "execution_count": 13,
     "metadata": {},
     "output_type": "execute_result"
    },
    {
     "data": {
      "image/png": "[encoded data removed]",
      "text/plain": [
       "<Figure size 432x288 with 1 Axes>"
      ]
     },
     "metadata": {
      "needs_background": "light"
     },
     "output_type": "display_data"
    }
   ],
   "source": [
    "plt.hist(df[df['age']>=65]['totalIncome'], bins=30)\n",
    "plt.hist(df[df['age']>=65][df['totalIncome']>100000]['totalIncome'], bins=30)"
   ]
  }
 ],
 "metadata": {
  "kernelspec": {
   "display_name": "Python 3",
   "language": "python",
   "name": "python3"
  },
  "language_info": {
   "codemirror_mode": {
    "name": "ipython",
    "version": 3
   },
   "file_extension": ".py",
   "mimetype": "text/x-python",
   "name": "python",
   "nbconvert_exporter": "python",
   "pygments_lexer": "ipython3",
   "version": "3.7.3"
  }
 },
 "nbformat": 4,
 "nbformat_minor": 2
}
